{
 "cells": [
  {
   "cell_type": "markdown",
   "metadata": {},
   "source": [
    "# Module 7 - Programming Assignment\n",
    "\n",
    "## Directions\n",
    "\n",
    "1. Change the name of this file to be your JHED id as in `jsmith299.ipynb`. Because sure you use your JHED ID (it's made out of your name and not your student id which is just letters and numbers).\n",
    "2. Make sure the notebook you submit is cleanly and fully executed. I do not grade unexecuted notebooks.\n",
    "3. Submit your notebook back in Blackboard where you downloaded this file.\n",
    "\n",
    "*Provide the output **exactly** as requested*"
   ]
  },
  {
   "cell_type": "markdown",
   "metadata": {},
   "source": [
    "# Unification\n",
    "\n",
    "This is actually Part I of a two part assignment. In a later module, you'll implement a Forward Planner. In order to do that, however, you need to have a unifier. It is important to note that you *only* need to implement a unifier. Although the module talked about resolution, you do not need to implement anything like \"standardizing apart\". From the unifier's point of view, that should already have been done.\n",
    "\n",
    "Unification is simply the *syntactic* balancing of expressions. There are only 3 kinds of expressions: constants, lists and (logic) variables. Constants and lists are only equal to each other if they're exactly the same thing or can be made to be the same thing by *binding* a value to a variable.\n",
    "\n",
    "It really is that simple...expressions must be literally the same (identical) except if one or the other (or both) has a variable in that \"spot\".\n",
    "\n",
    "## S-Expressions\n",
    "\n",
    "With that out of the way, we need a language with which to express our constants, variables and predicates and that language will be based on s-expressions.\n",
    "\n",
    "**constants** - There are two types of constants, values and predicates. Values should start with an uppercase letter. Fred is a constant value, so is Barney and Food. Predicates are named using lowercase letters. loves is a predicate and so is hates. This is only a convention. Secret: your code does not need to treat these two types of constants differently.\n",
    "\n",
    "**variables** - these are named using lowercase letters but always start with a question mark. ?x is a variable and so is ?yum. This is not a convention.\n",
    "\n",
    "**expressions (lists)** - these use the S-expression syntax a la LISP. (loves Fred Wilma) is an expression as is (friend-of Barney Fred) and (loves ?x ?y).\n",
    "\n",
    "## Parsing\n",
    "\n",
    "These functions are already included in the starter .py file."
   ]
  },
  {
   "cell_type": "code",
   "execution_count": 1,
   "metadata": {},
   "outputs": [],
   "source": [
    "import tokenize\n",
    "from io import StringIO"
   ]
  },
  {
   "cell_type": "markdown",
   "metadata": {},
   "source": [
    "This uses the above libraries to build a Lisp structure based on atoms. It is adapted from [simple iterator parser](http://effbot.org/zone/simple-iterator-parser.htm). The first function is the `atom` function."
   ]
  },
  {
   "cell_type": "code",
   "execution_count": 2,
   "metadata": {},
   "outputs": [],
   "source": [
    "def atom( next, token):\n",
    "    if token[ 1] == '(':\n",
    "        out = []\n",
    "        token = next()\n",
    "        while token[ 1] != ')':\n",
    "            out.append( atom( next, token))\n",
    "            token = next()\n",
    "            if token[ 1] == ' ':\n",
    "                token = next()\n",
    "        return out\n",
    "    elif token[ 1] == '?':\n",
    "        token = next()\n",
    "        return \"?\" + token[ 1]\n",
    "    else:\n",
    "        return token[ 1]"
   ]
  },
  {
   "cell_type": "markdown",
   "metadata": {},
   "source": [
    "The next function is the actual `parse` function:"
   ]
  },
  {
   "cell_type": "code",
   "execution_count": 3,
   "metadata": {},
   "outputs": [],
   "source": [
    "def parse(exp):\n",
    "    src = StringIO(exp).readline\n",
    "    tokens = tokenize.generate_tokens(src)\n",
    "    return atom(tokens.__next__, tokens.__next__())"
   ]
  },
  {
   "cell_type": "markdown",
   "metadata": {},
   "source": [
    "**Note** there was a change between 2.7 and 3.0 that \"hid\" the next() function in the tokenizer."
   ]
  },
  {
   "cell_type": "markdown",
   "metadata": {},
   "source": [
    "From a Python perspective, we want to turn something like \"(loves Fred ?x)\" to [\"loves\" \"Fred\" \"?x\"] and then work with the second representation as a list of strings. The strings then have the syntactic meaning we gave them previously."
   ]
  },
  {
   "cell_type": "code",
   "execution_count": 4,
   "metadata": {},
   "outputs": [
    {
     "data": {
      "text/plain": [
       "'Fred'"
      ]
     },
     "execution_count": 4,
     "metadata": {},
     "output_type": "execute_result"
    }
   ],
   "source": [
    "parse(\"Fred\")"
   ]
  },
  {
   "cell_type": "code",
   "execution_count": 5,
   "metadata": {},
   "outputs": [
    {
     "data": {
      "text/plain": [
       "'?x'"
      ]
     },
     "execution_count": 5,
     "metadata": {},
     "output_type": "execute_result"
    }
   ],
   "source": [
    "parse( \"?x\")"
   ]
  },
  {
   "cell_type": "code",
   "execution_count": 6,
   "metadata": {},
   "outputs": [
    {
     "data": {
      "text/plain": [
       "['loves', 'Fred', '?x']"
      ]
     },
     "execution_count": 6,
     "metadata": {},
     "output_type": "execute_result"
    }
   ],
   "source": [
    "parse( \"(loves Fred ?x)\")"
   ]
  },
  {
   "cell_type": "code",
   "execution_count": 7,
   "metadata": {},
   "outputs": [
    {
     "data": {
      "text/plain": [
       "['father_of', 'Barney', ['son_of', 'Barney']]"
      ]
     },
     "execution_count": 7,
     "metadata": {},
     "output_type": "execute_result"
    }
   ],
   "source": [
    "parse( \"(father_of Barney (son_of Barney))\")"
   ]
  },
  {
   "cell_type": "markdown",
   "metadata": {},
   "source": [
    "## Unifier\n",
    "\n",
    "Now that that's out of the way, here is the imperative pseudocode for unification. This is a classic recursive program with a number of base cases. Students for some reason don't like it, try the algorithm in the book, can't get it to work and then come back to this pseudocode.\n",
    "\n",
    "Work through the algorithm by hand with your Self-Check examples if you need to but I'd suggest sticking with this implementation. It does work.\n",
    "\n",
    "Here is imperative pseudocode for the algorithm:\n",
    "\n",
    "```\n",
    "def unification( exp1, exp2):\n",
    "    # base cases\n",
    "    if exp1 and exp2 are constants or the empty list:\n",
    "        if exp1 = exp2 then return {}\n",
    "        else return FAIL\n",
    "    if exp1 is a variable:\n",
    "        if exp1 occurs in exp2 then return FAIL\n",
    "        else return {exp1/exp2}\n",
    "    if exp2 is a variable:\n",
    "        if exp2 occurs in exp1 then return FAIL\n",
    "        else return {exp2/exp1}\n",
    "\n",
    "    # inductive step\n",
    "    first1 = first element of exp1\n",
    "    first2 = first element of exp2\n",
    "    result1 = unification( first1, first2)\n",
    "    if result1 = FAIL then return FAIL\n",
    "    apply result1 to rest of exp1 and exp2\n",
    "    result2 = unification( rest of exp1, rest of exp2)\n",
    "    if result2 = FAIL then return FAIL\n",
    "    return composition of result1 and result2\n",
    "```\n",
    "\n",
    "`unification` can return...\n",
    "\n",
    "1. `None` (if unification completely fails)\n",
    "2. `{}` (the empty substitution list) or \n",
    "3. a substitution list that has variables as keys and substituted values as values, like {\"?x\": \"Fred\"}. \n",
    "\n",
    "Note that the middle case sometimes confuses people...\"Sam\" unifying with \"Sam\" is not a failure so you return {} because there were no variables so there were no substitutions. You do not need to further resolve variables. If a variable resolves to an expression that contains a variable, you don't need to do the substition.\n",
    "\n",
    "If you think of a typical database table, there is a column, row and value. This Tuple is a *relation* and in some uses of unification, the \"thing\" in the first spot...\"love\" above is called the relation. If you have a table of users with user_id, username and the value then the relation is:\n",
    "\n",
    "`(login ?user_id ?username)`\n",
    "\n",
    "*most* of the time, the relation name is specified. But it's not impossible for the relation name to be represented by a variable:\n",
    "\n",
    "`(?relation 12345 \"smooth_operator\")`\n",
    "\n",
    "Your code should handle this case (the pseudocode does handle this case so all  you have to do is not futz with it).\n",
    "\n",
    "Our type system is very simple. We can get by with just a few boolean functions. The first tests to see if an expression is a variable."
   ]
  },
  {
   "cell_type": "code",
   "execution_count": 8,
   "metadata": {},
   "outputs": [],
   "source": [
    "def is_variable( exp):\n",
    "    return isinstance( exp, str) and exp[ 0] == \"?\""
   ]
  },
  {
   "cell_type": "code",
   "execution_count": 9,
   "metadata": {},
   "outputs": [
    {
     "data": {
      "text/plain": [
       "False"
      ]
     },
     "execution_count": 9,
     "metadata": {},
     "output_type": "execute_result"
    }
   ],
   "source": [
    "is_variable( \"Fred\")"
   ]
  },
  {
   "cell_type": "code",
   "execution_count": 10,
   "metadata": {},
   "outputs": [
    {
     "data": {
      "text/plain": [
       "True"
      ]
     },
     "execution_count": 10,
     "metadata": {},
     "output_type": "execute_result"
    }
   ],
   "source": [
    "is_variable( \"?fred\")"
   ]
  },
  {
   "cell_type": "markdown",
   "metadata": {},
   "source": [
    "The second tests to see if an expression is a constant:"
   ]
  },
  {
   "cell_type": "code",
   "execution_count": 11,
   "metadata": {},
   "outputs": [],
   "source": [
    "def is_constant( exp):\n",
    "    return isinstance( exp, str) and not is_variable( exp)"
   ]
  },
  {
   "cell_type": "code",
   "execution_count": 12,
   "metadata": {},
   "outputs": [
    {
     "data": {
      "text/plain": [
       "True"
      ]
     },
     "execution_count": 12,
     "metadata": {},
     "output_type": "execute_result"
    }
   ],
   "source": [
    "is_constant( \"Fred\")"
   ]
  },
  {
   "cell_type": "code",
   "execution_count": 13,
   "metadata": {},
   "outputs": [
    {
     "data": {
      "text/plain": [
       "False"
      ]
     },
     "execution_count": 13,
     "metadata": {},
     "output_type": "execute_result"
    }
   ],
   "source": [
    "is_constant( \"?fred\")"
   ]
  },
  {
   "cell_type": "code",
   "execution_count": 14,
   "metadata": {},
   "outputs": [
    {
     "data": {
      "text/plain": [
       "False"
      ]
     },
     "execution_count": 14,
     "metadata": {},
     "output_type": "execute_result"
    }
   ],
   "source": [
    "is_constant( [\"loves\", \"Fred\", \"?wife\"])"
   ]
  },
  {
   "cell_type": "markdown",
   "metadata": {},
   "source": [
    "It might also be useful to know that:\n",
    "\n",
    "<code>\n",
    "type( \"a\")\n",
    "&lt;type 'str'>\n",
    "type( \"a\") == str\n",
    "True\n",
    "type( \"a\") == list\n",
    "False\n",
    "type( [\"a\"]) == list\n",
    "True\n",
    "</code>\n",
    "\n",
    "\n",
    "You need to write the `unification` function described above. It should work with two expressions of the type returned by `parse`. See `unify` for how it will be called. It should return the result of unification for the two expressions as detailed above and in the book. It does not have to make all the necessary substitions (for example, if ?y is bound to ?x and 1 is bound to ?y, ?x doesn't have to be replaced everywhere with 1. It's enough to return {\"?x\":\"?y\", \"?y\":1}. For an actual application, you would need to fix this!)\n",
    "\n",
    "-----"
   ]
  },
  {
   "cell_type": "markdown",
   "metadata": {},
   "source": [
    "<a id=\"return_value\"></a>\n",
    "## return_value\n",
    "\n",
    "Returns the value from the string or list input format into the output format\n",
    "\n",
    "* **value** str or list\n",
    "\n",
    "**returns** str"
   ]
  },
  {
   "cell_type": "code",
   "execution_count": 15,
   "metadata": {},
   "outputs": [],
   "source": [
    "def return_value(value:str)->str:\n",
    "    if type(value) == list:\n",
    "        left_value, right_value = value[0], value[1:]\n",
    "        if type(right_value) == list:\n",
    "            return f'{left_value}({return_value(right_value[0])})'\n",
    "        else:\n",
    "            return f'{0}({1})'. format(left_value, ','.join(right_value))\n",
    "    else:\n",
    "        return value"
   ]
  },
  {
   "cell_type": "code",
   "execution_count": 16,
   "metadata": {},
   "outputs": [],
   "source": [
    "assert return_value(\"Fred\") == \"Fred\"\n",
    "\n",
    "assert return_value([\"Fred\", \"Pebble\"]) == \"Fred(Pebble)\"\n",
    "\n",
    "assert return_value([\"Loves\", [\"Fred\", \"Barney\"]]) == \"Loves(Fred(Barney))\""
   ]
  },
  {
   "cell_type": "markdown",
   "metadata": {},
   "source": [
    "<a id=\"pair\"></a>\n",
    "## pair\n",
    "\n",
    "pairs the variable string values for the next process in the algorithm\n",
    "\n",
    "* **value** str\n",
    "\n",
    "**returns** str"
   ]
  },
  {
   "cell_type": "code",
   "execution_count": 17,
   "metadata": {},
   "outputs": [],
   "source": [
    "def pair(var_1, var_2):\n",
    "    var = var_1[1:]\n",
    "    val = return_value(var_2)\n",
    "    return var, val"
   ]
  },
  {
   "cell_type": "markdown",
   "metadata": {},
   "source": [
    "<a id=\"join\"></a>\n",
    "## join\n",
    "\n",
    "joins the two variables into question into the desired output if the instance is a variable \n",
    "\n",
    "* **var_1** str\n",
    "* **var_2** str\n",
    "* **theta** str\n",
    "\n",
    "**returns** list"
   ]
  },
  {
   "cell_type": "code",
   "execution_count": 18,
   "metadata": {},
   "outputs": [],
   "source": [
    "def join(var_1:str, var_2:str, theta: list)->list:\n",
    "    # Checks if occurs in the other\n",
    "    if var_1 in var_2:\n",
    "        return None\n",
    "    else:\n",
    "        var, value = pair(var_1, var_2)\n",
    "        if var not in theta:\n",
    "            theta.append(f'{var}/{value}')\n",
    "        return theta "
   ]
  },
  {
   "cell_type": "code",
   "execution_count": 19,
   "metadata": {},
   "outputs": [],
   "source": [
    "test_var1 = '?x'\n",
    "test_var2 = ['car', 'color']\n",
    "test_theta = []\n",
    "\n",
    "assert join(test_var1, test_var2, test_theta) == ['x/car(color)']\n",
    "test_var3 = '?x'\n",
    "test_var4 = ['car', 'model']\n",
    "test_theta1 = []\n",
    "\n",
    "assert join(test_var3, test_var4, test_theta1) == ['x/car(model)']\n",
    "test_var5 = '?y'\n",
    "test_var6 = 'model'\n",
    "test_theta2 = []\n",
    "\n",
    "assert join(test_var5, test_var6, test_theta2) == ['y/model']"
   ]
  },
  {
   "cell_type": "markdown",
   "metadata": {},
   "source": [
    "<a id=\"to_dict\"></a>\n",
    "## to_dict\n",
    "\n",
    "Helper function to convert the resulting list to a dictionary\n",
    "\n",
    "* **results** list : the results\n",
    "\n",
    "**returns** dict : list converted to dictionary"
   ]
  },
  {
   "cell_type": "code",
   "execution_count": 20,
   "metadata": {},
   "outputs": [],
   "source": [
    "def to_dict(result):\n",
    "    if result != None:\n",
    "        x = []\n",
    "        for i in range(len(result)):\n",
    "            x += result[i].split('/')\n",
    "        x = iter(x)\n",
    "        result_dict = dict(zip(x,x))\n",
    "        return result_dict\n",
    "    else:\n",
    "        return None"
   ]
  },
  {
   "cell_type": "code",
   "execution_count": 21,
   "metadata": {},
   "outputs": [],
   "source": [
    "x = ['x/Pebbles']\n",
    "\n",
    "assert to_dict(x) == {'x': 'Pebbles'}\n",
    "\n",
    "y = ['x/Pebbles', 'y/Rocks']\n",
    "assert to_dict(y) == {'x': 'Pebbles', 'y': 'Rocks'}\n",
    "\n",
    "z = ['x/Pebbles', 'y/Rocks', 'z/Fred(Barney)']\n",
    "assert to_dict(z) == {'x': 'Pebbles', 'y': 'Rocks', 'z': 'Fred(Barney)'}"
   ]
  },
  {
   "cell_type": "markdown",
   "metadata": {},
   "source": [
    "<a id=\"unification\"></a>\n",
    "## unification\n",
    "\n",
    "Unification algorithm that attempts to find subsitutions between two expressions that takes the form of {variable/constant}. Uniifcation is used for inference of first order logic. \n",
    "\n",
    "* **list_exrpession1** list : the first expression list\n",
    "* **list_exrpession2** list : the second expression list\n",
    "* **theta** list : the results\n",
    "\n",
    "**returns** list"
   ]
  },
  {
   "cell_type": "code",
   "execution_count": 22,
   "metadata": {},
   "outputs": [],
   "source": [
    "def unification(list_expression1:list, list_expression2:list, theta:list)->list:\n",
    "    if theta is None:\n",
    "        return theta\n",
    "    elif type(list_expression1) == list and type(list_expression2) == list and len(list_expression1) == 0 and len(list_expression2) == 0:\n",
    "        return theta if list_expression1 == list_expression2 else None\n",
    "    elif is_constant(list_expression1) and is_constant(list_expression2):\n",
    "        return theta if list_expression1 == list_expression2 else None\n",
    "    elif is_variable(list_expression1):\n",
    "        return join(list_expression1, list_expression2, theta)\n",
    "    elif is_variable(list_expression2):\n",
    "        return join(list_expression2, list_expression1, theta)\n",
    "    \n",
    "    result_1 = unify(list_expression1[0], list_expression2[0])\n",
    "    if result_1 is None: return None\n",
    "    \n",
    "    result_2 = unify(list_expression1[1:], list_expression2[1:])\n",
    "    if result_2 is None: return None\n",
    "    return result_1 + result_2 "
   ]
  },
  {
   "cell_type": "markdown",
   "metadata": {},
   "source": [
    "<a id=\"unify\"></a>\n",
    "## unify\n",
    "Helper function to initate the unification algorithm\n",
    "* **s_exrpession1** list : the first expression list\n",
    "* **s_exrpession2** list : the second expression list\n",
    "\n",
    "**returns** fucntion execution of unification"
   ]
  },
  {
   "cell_type": "code",
   "execution_count": 23,
   "metadata": {},
   "outputs": [],
   "source": [
    "def unify(s_expression1, s_expression2):\n",
    "    theta = list()\n",
    "    return unification(s_expression1, s_expression2, theta)"
   ]
  },
  {
   "cell_type": "markdown",
   "metadata": {},
   "source": [
    "**Note** If you see the error,\n",
    "\n",
    "```\n",
    "tokenize.TokenError: ('EOF in multi-line statement', (2, 0))\n",
    "```\n",
    "You most likely have unbalanced parentheses in your s-expression.\n",
    "\n",
    "## Test Cases\n",
    "\n",
    "Use the expressions from the Self Check as your test cases..."
   ]
  },
  {
   "cell_type": "code",
   "execution_count": 24,
   "metadata": {},
   "outputs": [
    {
     "name": "stdout",
     "output_type": "stream",
     "text": [
      "Expression 1 = ['son', 'Barney', 'Barney'], Expression 2 = ['daughter', 'Wilma', 'Pebbles']\n",
      "actual = None\n",
      "expected = None\n",
      "\n",
      "\n",
      "Expression 1 = Fred, Expression 2 = Barney\n",
      "actual = None\n",
      "expected = None\n",
      "\n",
      "\n",
      "Expression 1 = Pebbles, Expression 2 = Pebbles\n",
      "actual = {}\n",
      "expected = {}\n",
      "\n",
      "\n",
      "Expression 1 = ['quarry_worker', 'Fred'], Expression 2 = ['quarry_worker', '?x']\n",
      "actual = {'x': 'Fred'}\n",
      "expected = {'x': 'Fred'}\n",
      "\n",
      "\n",
      "Expression 1 = ['son', 'Barney', '?x'], Expression 2 = ['son', '?y', 'Bam_Bam']\n",
      "actual = {'y': 'Barney', 'x': 'Bam_Bam'}\n",
      "expected = {'y': 'Barney', 'x': 'Bam_Bam'}\n",
      "\n",
      "\n",
      "Expression 1 = ['married', '?x', '?y'], Expression 2 = ['married', 'Barney', 'Wilma']\n",
      "actual = {'x': 'Barney', 'y': 'Wilma'}\n",
      "expected = {'x': 'Barney', 'y': 'Wilma'}\n",
      "\n",
      "\n",
      "Expression 1 = ['son', 'Barney', '?x'], Expression 2 = ['son', '?y', ['son', 'Barney']]\n",
      "actual = {'y': 'Barney', 'x': 'son(Barney)'}\n",
      "expected = {'y': 'Barney', 'x': 'son(Barney)'}\n",
      "\n",
      "\n",
      "Expression 1 = ['son', 'Barney', '?x'], Expression 2 = ['son', '?y', ['son', '?y']]\n",
      "actual = {'y': 'Barney', 'x': 'son(?y)'}\n",
      "expected = {'y': 'Barney', 'x': 'son(?y)'}\n",
      "\n",
      "\n",
      "Expression 1 = ['son', 'Barney', 'Bam_Bam'], Expression 2 = ['son', '?y', ['son', 'Barney']]\n",
      "actual = None\n",
      "expected = None\n",
      "\n",
      "\n",
      "Expression 1 = ['loves', 'Fred', 'Fred'], Expression 2 = ['loves', '?x', '?x']\n",
      "actual = {'x': 'Fred'}\n",
      "expected = {'x': 'Fred'}\n",
      "\n",
      "\n",
      "Expression 1 = ['future', 'George', 'Fred'], Expression 2 = ['Future', '?y', '?y']\n",
      "actual = None\n",
      "expected = None\n",
      "\n",
      "\n"
     ]
    }
   ],
   "source": [
    "self_check_test_cases = [\n",
    "    ['(son Barney Barney)', '(daughter Wilma Pebbles)', None],\n",
    "    ['Fred', 'Barney', None],\n",
    "    ['Pebbles', 'Pebbles', {}],\n",
    "    ['(quarry_worker Fred)', '(quarry_worker ?x)', {'x': 'Fred'}],\n",
    "    ['(son Barney ?x)', '(son ?y Bam_Bam)', {'y': 'Barney', 'x': 'Bam_Bam'}],\n",
    "    ['(married ?x ?y)', '(married Barney Wilma)', {'x': 'Barney', 'y': 'Wilma'}],\n",
    "    ['(son Barney ?x)', '(son ?y (son Barney))', {'y': 'Barney', 'x': 'son(Barney)'}],\n",
    "    ['(son Barney ?x)', '(son ?y (son ?y))',  {'y': 'Barney', 'x': 'son(?y)'}],\n",
    "    ['(son Barney Bam_Bam)', '(son ?y (son Barney))',  None],\n",
    "    ['(loves Fred Fred)', '(loves ?x ?x)', {'x': 'Fred'}],\n",
    "    ['(future George Fred)', '(Future ?y ?y)', None]\n",
    "]\n",
    "for case in self_check_test_cases:\n",
    "    exp1, exp2, expected = case\n",
    "    actual = to_dict(unify(parse(exp1), parse(exp2)))\n",
    "    print(f\"Expression 1 = {parse(exp1)}, Expression 2 = {parse(exp2)}\")\n",
    "    print(f\"actual = {actual}\")\n",
    "    print(f\"expected = {expected}\")\n",
    "    print(\"\\n\")\n",
    "    assert expected == actual"
   ]
  },
  {
   "cell_type": "markdown",
   "metadata": {},
   "source": [
    "Now add at least **five (5)** additional test cases of your own making, explaining exactly what you are testing. They should not be testing the same things as the self check test cases above."
   ]
  },
  {
   "cell_type": "code",
   "execution_count": 25,
   "metadata": {},
   "outputs": [
    {
     "name": "stdout",
     "output_type": "stream",
     "text": [
      "Testing non-equal constants...\n",
      "actual = None\n",
      "expected = None\n",
      "\n",
      "\n",
      "Testing non-eqaul constants...\n",
      "actual = None\n",
      "expected = None\n",
      "\n",
      "\n",
      "Testing assigning two values to same variable...\n",
      "actual = {'x': 'Wilam'}\n",
      "expected = {'x': 'Wilam'}\n",
      "\n",
      "\n",
      "Testing Testing for Cat and z unification...\n",
      "actual = {'y': 'Cat'}\n",
      "expected = {'y': 'Cat'}\n",
      "\n",
      "\n",
      "Testing Testing for 3 Variables...\n",
      "actual = {'x': 'Make', 'y': 'Color', 'z': 'Price'}\n",
      "expected = {'x': 'Make', 'y': 'Color', 'z': 'Price'}\n",
      "\n",
      "\n",
      "Testing Testing variable to variable...\n",
      "actual = {'x': '?y'}\n",
      "expected = {'x': '?y'}\n",
      "\n",
      "\n"
     ]
    }
   ],
   "source": [
    "new_test_cases = [\n",
    "    ['(son Barney Barney)', '(daughter Wilma Pebbles)', None, \"non-equal constants\"], \n",
    "    ['(son Fred Barney)', '(daughter Fred ?x)', None, \"non-eqaul constants\" ],\n",
    "    ['(Barney ?x ?x)', '(Barney Fred Wilam)', {'x': 'Wilam'}, \"assigning two values to same variable\"], \n",
    "    ['(Dog Cat)', '(Dog ?y)', {'y': 'Cat'}, 'Testing for Cat and z unification'],\n",
    "    ['(Car ?x ?y ?z)', '(Car Make Color Price)', {'x': 'Make', 'y': 'Color', 'z': 'Price'}, 'Testing for 3 Variables'],\n",
    "    ['(Car Color ?x)', '(Car Color ?y)', {'x': '?y'}, 'Testing variable to variable']\n",
    "]\n",
    "for case in new_test_cases:\n",
    "    exp1, exp2, expected, message = case\n",
    "    actual = to_dict(unify(parse(exp1), parse(exp2)))\n",
    "    print(f\"Testing {message}...\")\n",
    "    print(f\"actual = {actual}\")\n",
    "    print(f\"expected = {expected}\")\n",
    "    print(\"\\n\")\n",
    "    assert expected == actual"
   ]
  },
  {
   "cell_type": "markdown",
   "metadata": {},
   "source": [
    "## Before You Submit...\n",
    "\n",
    "1. Did you provide output exactly as requested?\n",
    "2. Did you re-execute the entire notebook? (\"Restart Kernel and Rull All Cells...\")\n",
    "3. If you did not complete the assignment or had difficulty please explain what gave you the most difficulty in the Markdown cell below.\n",
    "4. Did you change the name of the file to `jhed_id.ipynb`?\n",
    "\n",
    "Do not submit any other files."
   ]
  },
  {
   "cell_type": "markdown",
   "metadata": {},
   "source": []
  }
 ],
 "metadata": {
  "kernelspec": {
   "display_name": "Python (en605645)",
   "language": "python",
   "name": "en605645"
  },
  "language_info": {
   "codemirror_mode": {
    "name": "ipython",
    "version": 3
   },
   "file_extension": ".py",
   "mimetype": "text/x-python",
   "name": "python",
   "nbconvert_exporter": "python",
   "pygments_lexer": "ipython3",
   "version": "3.10.4"
  },
  "toc": {
   "colors": {
    "hover_highlight": "#DAA520",
    "navigate_num": "#000000",
    "navigate_text": "#333333",
    "running_highlight": "#FF0000",
    "selected_highlight": "#FFD700",
    "sidebar_border": "#EEEEEE",
    "wrapper_background": "#FFFFFF"
   },
   "moveMenuLeft": true,
   "nav_menu": {
    "height": "120px",
    "width": "252px"
   },
   "navigate_menu": true,
   "number_sections": true,
   "sideBar": true,
   "threshold": 4,
   "toc_cell": false,
   "toc_section_display": "block",
   "toc_window_display": false,
   "widenNotebook": false
  }
 },
 "nbformat": 4,
 "nbformat_minor": 4
}
