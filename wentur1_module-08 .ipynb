{
 "cells": [
  {
   "cell_type": "markdown",
   "metadata": {},
   "source": [
    "# Module 8 - Programming Assignment\n",
    "\n",
    "## Directions\n",
    "\n",
    "1. Change the name of this file to be your JHED id as in `jsmith299.ipynb`. Because sure you use your JHED ID (it's made out of your name and not your student id which is just letters and numbers).\n",
    "2. Make sure the notebook you submit is cleanly and fully executed. I do not grade unexecuted notebooks.\n",
    "3. Submit your notebook back in Blackboard where you downloaded this file.\n",
    "\n",
    "*Provide the output **exactly** as requested*"
   ]
  },
  {
   "cell_type": "code",
   "execution_count": 1,
   "metadata": {},
   "outputs": [
    {
     "name": "stderr",
     "output_type": "stream",
     "text": [
      "C:\\Users\\wsven\\AppData\\Local\\Temp\\ipykernel_35584\\3298188066.py:2: DeprecationWarning: Importing display from IPython.core.display is deprecated since IPython 7.14, please import from IPython display\n",
      "  from IPython.core.display import *\n",
      "C:\\Users\\wsven\\AppData\\Local\\Temp\\ipykernel_35584\\3298188066.py:2: DeprecationWarning: Importing clear_output from IPython.core.display is deprecated since IPython 7.14, please import from IPython display\n",
      "  from IPython.core.display import *\n",
      "C:\\Users\\wsven\\AppData\\Local\\Temp\\ipykernel_35584\\3298188066.py:2: DeprecationWarning: Importing publish_display_data from IPython.core.display is deprecated since IPython 7.14, please import from IPython display\n",
      "  from IPython.core.display import *\n",
      "C:\\Users\\wsven\\AppData\\Local\\Temp\\ipykernel_35584\\3298188066.py:2: DeprecationWarning: Importing update_display from IPython.core.display is deprecated since IPython 7.14, please import from IPython display\n",
      "  from IPython.core.display import *\n",
      "C:\\Users\\wsven\\AppData\\Local\\Temp\\ipykernel_35584\\3298188066.py:2: DeprecationWarning: Importing DisplayHandle from IPython.core.display is deprecated since IPython 7.14, please import from IPython display\n",
      "  from IPython.core.display import *\n"
     ]
    }
   ],
   "source": [
    "from copy import deepcopy\n",
    "from IPython.core.display import *\n",
    "import numpy as np\n",
    "import random\n",
    "from operator import itemgetter"
   ]
  },
  {
   "cell_type": "markdown",
   "metadata": {},
   "source": [
    "## Decision Trees\n",
    "\n",
    "For this assignment you will be implementing and evaluating a Decision Tree using the ID3 Algorithm (**no** pruning or normalized information gain). Use the provided pseudocode. The data is located at (copy link):\n",
    "\n",
    "http://archive.ics.uci.edu/ml/datasets/Mushroom\n",
    "\n",
    "**Just in case** the UCI repository is down, which happens from time to time, I have included the data and name files on Blackboard.\n",
    "\n",
    "<div style=\"background: lemonchiffon; margin:20px; padding: 20px;\">\n",
    "    <strong>Important</strong>\n",
    "    <p>\n",
    "        No Pandas. The only acceptable libraries in this class are those contained in the `environment.yml`. No OOP, either. You can used Dicts, NamedTuples, etc. as your abstract data type (ADT) for the the tree and nodes.\n",
    "    </p>\n",
    "</div>\n",
    "\n",
    "One of the things we did not talk about in the lectures was how to deal with missing values. There are two aspects of the problem here. What do we do with missing values in the training data? What do we do with missing values when doing classifcation?\n",
    "\n",
    "For the first problem, C4.5 handled missing values in an interesting way. Suppose we have identifed some attribute *B* with values {b1, b2, b3} as the best current attribute. Furthermore, assume there are 5 observations with B=?, that is, we don't know the attribute value. In C4.5, those 5 observations would be added to *all* of the subsets created by B=b1, B=b2, B=b3 with decreased weights. Note that the observations with missing values are not part of the information gain calculation.\n",
    "\n",
    "This doesn't quite help us if we have missing values when we use the model. What happens if we have missing values during classification? One approach is to prepare for this advance. When you train the tree, you need to add an implicit attribute value \"?\" at every split. For example, if the attribute was \"size\" then the domain would be [\"small\", \"medium\", \"large\", \"?\"]. The \"?\" value gets all the data (because ? is now a wildcard). However, there is an issue with this approach. \"?\" becomes the worst possible attribut value because it has no classification value. What to do? There are several options:\n",
    "\n",
    "1. Never recurse on \"?\" if you do not also recurse on at least one *real* attribute value.\n",
    "2. Limit the depth of the tree.\n",
    "\n",
    "There are good reasons, in general, to limit the depth of a decision tree because they tend to overfit.\n",
    "Otherwise, the algorithm *will* exhaust all the attributes trying to fulfill one of the base cases.\n",
    "\n",
    "You must implement the following functions:\n",
    "\n",
    "`train` takes training_data and returns the Decision Tree as a data structure. There are many options including namedtuples and just plain old nested dictionaries. **No OOP**.\n",
    "\n",
    "```\n",
    "def train(training_data, depth_limit=None):\n",
    "   # returns the Decision Tree.\n",
    "```\n",
    "\n",
    "The `depth_limit` value defaults to None. (What technique would we use to determine the best parameter value for `depth_limit` hint: Module 3!)\n",
    "\n",
    "`classify` takes a tree produced from the function above and applies it to labeled data (like the test set) or unlabeled data (like some new data).\n",
    "\n",
    "```\n",
    "def classify(tree, observations, labeled=True):\n",
    "    # returns a list of classifications\n",
    "```\n",
    "\n",
    "`evaluate` takes a data set with labels (like the training set or test set) and the classification result and calculates the classification error rate:\n",
    "\n",
    "$$error\\_rate=\\frac{errors}{n}$$\n",
    "\n",
    "Do not use anything else as evaluation metric or the submission will be deemed incomplete, ie, an \"F\". (Hint: accuracy rate is not the error rate!).\n",
    "\n",
    "`cross_validate` takes the data and uses 10 fold cross validation (from Module 3!) to `train`, `classify`, and `evaluate`. **Remember to shuffle your data before you create your folds**. I leave the exact signature of `cross_validate` to you but you should write it so that you can use it with *any* `classify` function of the same form (using higher order functions and partial application).\n",
    "\n",
    "Following Module 3's discussion, `cross_validate` should print out the fold number and the evaluation metric (error rate) for each fold and then the average value (and the variance). What you are looking for here is a consistent evaluation metric cross the folds. You should print the error rates in terms of percents (ie, multiply the error rate by 100 and add \"%\" to the end).\n",
    "\n",
    "```\n",
    "def pretty_print_tree(tree):\n",
    "    # pretty prints the tree\n",
    "```\n",
    "\n",
    "This should be a text representation of a decision tree trained on the entire data set (no train/test).\n",
    "\n",
    "To summarize...\n",
    "\n",
    "Apply the Decision Tree algorithm to the Mushroom data set using 10 fold cross validation and the error rate as the evaluation metric. When you are done, apply the Decision Tree algorithm to the entire data set and print out the resulting tree.\n",
    "\n",
    "**Note** Because this assignment has a natural recursive implementation, you should consider using `deepcopy` at the appropriate places.\n",
    "\n",
    "-----"
   ]
  },
  {
   "cell_type": "markdown",
   "metadata": {},
   "source": [
    "## Mushroom Data\n",
    "\n",
    "Number of Instances: 8124\n",
    "\n",
    "Number of Attributes: 22 (all nominally valued)\n",
    "\n",
    "Attribute Information: (classes: edible=e, poisonous=p)\n",
    "\n",
    "     1. cap-shape:                bell=b,conical=c,convex=x,flat=f,\n",
    "                                  knobbed=k,sunken=s      \n",
    "                                  \n",
    "     2. cap-surface:              fibrous=f,grooves=g,scaly=y,smooth=s\n",
    "     \n",
    "     3. cap-color:                brown=n,buff=b,cinnamon=c,gray=g,green=r,\n",
    "                                  pink=p,purple=u,red=e,white=w,yellow=y\n",
    "                                  \n",
    "     4. bruises?:                 bruises=t,no=f\n",
    "     \n",
    "     5. odor:                     almond=a,anise=l,creosote=c,fishy=y,foul=f,\n",
    "                                  musty=m,none=n,pungent=p,spicy=s\n",
    "                                  \n",
    "     6. gill-attachment:          attached=a,descending=d,free=f,notched=n\n",
    "     \n",
    "     7. gill-spacing:             close=c,crowded=w,distant=d\n",
    "     \n",
    "     8. gill-size:                broad=b,narrow=n\n",
    "     \n",
    "     9. gill-color:               black=k,brown=n,buff=b,chocolate=h,gray=g,\n",
    "                                  green=r,orange=o,pink=p,purple=u,red=e,\n",
    "                                  white=w,yellow=y\n",
    "                                  \n",
    "    10. stalk-shape:              enlarging=e,tapering=t\n",
    "    \n",
    "    11. stalk-root:               bulbous=b,club=c,cup=u,equal=e,\n",
    "                                  rhizomorphs=z,rooted=r,missing=?\n",
    "                                  \n",
    "    12. stalk-surface-above-ring: fibrous=f,scaly=y,silky=k,smooth=s\n",
    "    \n",
    "    13. stalk-surface-below-ring: fibrous=f,scaly=y,silky=k,smooth=s\n",
    "    \n",
    "    14. stalk-color-above-ring:   brown=n,buff=b,cinnamon=c,gray=g,orange=o,\n",
    "                                  pink=p,red=e,white=w,yellow=y\n",
    "                                  \n",
    "    15. stalk-color-below-ring:   brown=n,buff=b,cinnamon=c,gray=g,orange=o,\n",
    "                                  pink=p,red=e,white=w,yellow=y\n",
    "                                  \n",
    "    16. veil-type:                partial=p,universal=u\n",
    "    \n",
    "    17. veil-color:               brown=n,orange=o,white=w,yellow=y\n",
    "    \n",
    "    18. ring-number:              none=n,one=o,two=t\n",
    "    \n",
    "    19. ring-type:                cobwebby=c,evanescent=e,flaring=f,large=l,\n",
    "                                  none=n,pendant=p,sheathing=s,zone=z\n",
    "                                  \n",
    "    20. spore-print-color:        black=k,brown=n,buff=b,chocolate=h,green=r,\n",
    "                                  orange=o,purple=u,white=w,yellow=y\n",
    "                                  \n",
    "    21. population:               abundant=a,clustered=c,numerous=n,\n",
    "                                  scattered=s,several=v,solitary=y\n",
    "                                  \n",
    "    22. habitat:                  grasses=g,leaves=l,meadows=m,paths=p,\n",
    "                                  urban=u,waste=w,woods=d\n",
    "\n",
    "8. Missing Attribute Values: 2480 of them (denoted by \"?\"), all for\n",
    "   attribute #11.\n",
    "\n",
    "9. Class Distribution: \n",
    "    --    edible: 4208 (51.8%)\n",
    "    -- poisonous: 3916 (48.2%)\n",
    "    --     total: 8124 instances"
   ]
  },
  {
   "cell_type": "markdown",
   "metadata": {},
   "source": [
    "## load"
   ]
  },
  {
   "cell_type": "code",
   "execution_count": 2,
   "metadata": {},
   "outputs": [],
   "source": [
    "def load(file_name: str) -> list[list]:\n",
    "    data = []\n",
    "    file = open(file_name, \"r\")\n",
    "    for line in file:\n",
    "        datum = [value for value in line.rstrip().split(\",\")]\n",
    "        data.append(datum)\n",
    "    random.shuffle(data)\n",
    "    return np.asarray(data)"
   ]
  },
  {
   "cell_type": "code",
   "execution_count": 3,
   "metadata": {},
   "outputs": [],
   "source": [
    "data = load(\"agaricus-lepiota.data\")"
   ]
  },
  {
   "cell_type": "markdown",
   "metadata": {},
   "source": [
    "## is_empty\n",
    "\n",
    "Checks if the data is empty\n",
    "\n",
    "\n",
    "* **data** list[list]: the data in question\n",
    "\n",
    "**returns** bool: true or false"
   ]
  },
  {
   "cell_type": "code",
   "execution_count": 4,
   "metadata": {},
   "outputs": [],
   "source": [
    "def is_empty(data:list[list])->bool:\n",
    "    return len(data) == 0"
   ]
  },
  {
   "cell_type": "code",
   "execution_count": 5,
   "metadata": {},
   "outputs": [],
   "source": [
    "assert (is_empty(data) == False)\n",
    "assert (is_empty(np.array([])) == True)\n",
    "assert (is_empty([0]) == False)"
   ]
  },
  {
   "cell_type": "markdown",
   "metadata": {},
   "source": [
    "## Entropy\n",
    "\n",
    "This function calculates the entropy\n",
    "\n",
    "* **total** int: the total count of the section in question\n",
    "* **counts** list[int]:list of counts for each value \n",
    "\n",
    "**returns** float: entropy"
   ]
  },
  {
   "cell_type": "code",
   "execution_count": 6,
   "metadata": {},
   "outputs": [],
   "source": [
    "def entropy(total:int, counts:list[int])->float:\n",
    "    return -np.sum([(float(x)/total)*np.log2(float(x)/total) for x in counts if x != 0])"
   ]
  },
  {
   "cell_type": "code",
   "execution_count": 7,
   "metadata": {},
   "outputs": [],
   "source": [
    "assert entropy(7, [4, 3]) == 0.9852281360342515\n",
    "assert entropy(2, [1, 1]) == 1.0\n",
    "assert entropy(2, [2, 0]) == -0.0"
   ]
  },
  {
   "cell_type": "markdown",
   "metadata": {},
   "source": [
    "## get_domain\n",
    "\n",
    "* **data** list[list]: the data in question\n",
    "* **col** int: the index of the column\n",
    "\n",
    "**returns** list: returns a list containing the unique valeus in that col"
   ]
  },
  {
   "cell_type": "code",
   "execution_count": 8,
   "metadata": {},
   "outputs": [],
   "source": [
    "def get_domain(data:list[list], col:int)->list:\n",
    "    return np.unique(data[:, col])"
   ]
  },
  {
   "cell_type": "markdown",
   "metadata": {},
   "source": [
    "## get_count"
   ]
  },
  {
   "cell_type": "code",
   "execution_count": 9,
   "metadata": {},
   "outputs": [],
   "source": [
    "def get_count(data: list[list], col:int, value:str, y_col = None, y_value = None)->int:\n",
    "    a = (data[:, col] == value)\n",
    "    if y_col is None or y_value is None:\n",
    "        return a.sum()\n",
    "    b = (data[:, y_col] == y_value)\n",
    "    c = np.logical_and(a, b)\n",
    "    return c.sum()"
   ]
  },
  {
   "cell_type": "code",
   "execution_count": 10,
   "metadata": {},
   "outputs": [],
   "source": [
    "assert get_count(data, 0, 'e') == 4208\n",
    "assert get_count(data, 0, 'p') == 3916\n",
    "assert get_count(data, 1, 'p') == 0"
   ]
  },
  {
   "cell_type": "markdown",
   "metadata": {},
   "source": [
    "## is_homogeneous"
   ]
  },
  {
   "cell_type": "code",
   "execution_count": 11,
   "metadata": {},
   "outputs": [],
   "source": [
    "def is_homogeneous(data:list[list])->bool:\n",
    "    domain = get_domain(data, 0)\n",
    "    total = len(data[:,0])\n",
    "    e = entropy(total, [get_count(data, 0, dval) for dval in domain])\n",
    "    return e == 0.0"
   ]
  },
  {
   "cell_type": "code",
   "execution_count": 12,
   "metadata": {},
   "outputs": [],
   "source": [
    "class_p_only = data[np.where(data[:,0] == 'e')]\n",
    "\n",
    "assert(is_homogeneous(class_p_only) == True)\n",
    "assert (is_homogeneous(data) == False)"
   ]
  },
  {
   "cell_type": "markdown",
   "metadata": {},
   "source": [
    "## get_subtable"
   ]
  },
  {
   "cell_type": "code",
   "execution_count": 13,
   "metadata": {},
   "outputs": [],
   "source": [
    "def get_subtable(data:list[list], col:int, value:str)->list[list]:\n",
    "    dataset = data[np.where(data[:,col] == value)]\n",
    "    return dataset"
   ]
  },
  {
   "cell_type": "markdown",
   "metadata": {},
   "source": [
    "## majority"
   ]
  },
  {
   "cell_type": "code",
   "execution_count": 14,
   "metadata": {},
   "outputs": [],
   "source": [
    "def majority(data:list[list], col:int)->tuple[str, list[tuple]]:\n",
    "    domain = get_domain(data, col)\n",
    "    freqs = [(dval, get_count(data, col, dval)) for dval in domain]\n",
    "    attrib_majority = sorted(freqs, key=itemgetter(1), reverse=True)\n",
    "    subset = get_subtable(data, col, attrib_majority[0][0])\n",
    "    y_domain = get_domain(subset, 0)\n",
    "    y_freqs = [(dval, get_count(data, 0, dval)) for dval in y_domain]\n",
    "    class_majority = sorted(y_freqs, key=itemgetter(1), reverse=True)\n",
    "    return attrib_majority[0][0], class_majority"
   ]
  },
  {
   "cell_type": "code",
   "execution_count": 15,
   "metadata": {},
   "outputs": [],
   "source": [
    "test = get_subtable(data, 5, 'a')\n",
    "\n",
    "assert majority(test, 5) == ('a', [('e', 400)])\n",
    "assert majority(test, 3) == ('y', [('e', 400)])\n",
    "assert majority(test, 6) == ('f', [('e', 400)])"
   ]
  },
  {
   "cell_type": "markdown",
   "metadata": {},
   "source": [
    "## entropy_attr"
   ]
  },
  {
   "cell_type": "code",
   "execution_count": 16,
   "metadata": {},
   "outputs": [],
   "source": [
    "def entropy_attr(data, col, y_col):\n",
    "    y_domain, y_total = get_domain(data, y_col), float(len(data[:, y_col]))\n",
    "    \n",
    "    a_domain, a_total = get_domain(data, col), float(len(data))\n",
    "    \n",
    "    a_freqs = [get_count(data, col, aval) for aval in a_domain]\n",
    "    \n",
    "    entropies = [entropy(get_count(data, col, dval),\n",
    "                         \n",
    "                              [get_count(data, col, dval, y_col, yval) for yval in y_domain])\n",
    "                for dval in a_domain]\n",
    "    entropy_res = np.sum([a_freqs[i]/a_total*entropies[i] for i,_ in enumerate(a_freqs)])\n",
    "    return entropy_res"
   ]
  },
  {
   "cell_type": "code",
   "execution_count": 17,
   "metadata": {},
   "outputs": [],
   "source": [
    "assert entropy_attr(data, 1, 0) == 0.9502711949370874\n",
    "\n",
    "assert entropy_attr(data, 2, 0) == 0.9704776640986876\n",
    "\n",
    "assert entropy_attr(data, 3, 0) == 0.9630186138962565"
   ]
  },
  {
   "cell_type": "markdown",
   "metadata": {},
   "source": [
    "## best_attribute"
   ]
  },
  {
   "cell_type": "code",
   "execution_count": 18,
   "metadata": {},
   "outputs": [],
   "source": [
    "def best_attribute(data, attributes, ycol):\n",
    "    y_domain, y_total = get_domain(data, ycol), len(data[:,ycol])\n",
    "    \n",
    "    y_entropy = entropy(y_total, [get_count(data, ycol, dval) for dval in y_domain])\n",
    "    \n",
    "    ig = [(i, y_entropy - entropy_attr(data, i, ycol)) for i in attributes]\n",
    "    \n",
    "    best = sorted(ig, key=itemgetter(1), reverse=True)[0]\n",
    "    \n",
    "    return best[0]"
   ]
  },
  {
   "cell_type": "code",
   "execution_count": 19,
   "metadata": {},
   "outputs": [],
   "source": [
    "def ordered_dom_vals(data, col):\n",
    "    domain, total = get_domain(data, col), float(len(data[:, col]))\n",
    "    freq = [(dval, entropy(total, [get_count(data, col, dval)])) for dval in domain]\n",
    "    order = sorted(freq, key=itemgetter(1))\n",
    "    return list(zip(*order))[0]"
   ]
  },
  {
   "cell_type": "code",
   "execution_count": 20,
   "metadata": {},
   "outputs": [
    {
     "data": {
      "text/plain": [
       "('m', 'c', 'p', 'a', 'l', 's', 'y', 'f', 'n')"
      ]
     },
     "execution_count": 20,
     "metadata": {},
     "output_type": "execute_result"
    }
   ],
   "source": [
    "ordered_dom_vals(data, 5)"
   ]
  },
  {
   "cell_type": "code",
   "execution_count": 21,
   "metadata": {},
   "outputs": [],
   "source": [
    "def ID3(data, attributes, default_label, ycol=0, subtree=None):\n",
    "    if is_empty(data): \n",
    "        return default_label   \n",
    "    domain_value, label = majority(data, ycol)\n",
    "    \n",
    "    if is_homogeneous(data) or len(attributes) == 0:\n",
    "        return label\n",
    "\n",
    "    node = best_attribute(data, attributes, ycol)\n",
    "    m = majority(data, node)\n",
    "    tree = {node:{}}\n",
    "    attributes.remove(node)\n",
    "    \n",
    "    for domain_value in ordered_dom_vals(data, node):\n",
    "        if domain_value == '?': continue\n",
    "        data_subset = get_subtable(data, node, domain_value)\n",
    "        child = ID3(data_subset, deepcopy(attributes), tree[node], ycol=node, subtree=domain_value)\n",
    "        tree[node][domain_value] = child\n",
    "    \n",
    "    return tree"
   ]
  },
  {
   "cell_type": "code",
   "execution_count": 22,
   "metadata": {},
   "outputs": [],
   "source": [
    "tree = ID3(data, list(range(1, 23)), 'p')"
   ]
  },
  {
   "cell_type": "code",
   "execution_count": 23,
   "metadata": {},
   "outputs": [],
   "source": [
    "def to_tree(d:dict, indent=0): \n",
    "    for key, value in d.items():\n",
    "        if isinstance(value, dict):\n",
    "            print('  ' * indent, str(key), \":\")\n",
    "            to_tree(value, indent + 2)\n",
    "        else:\n",
    "            print('  ' * indent, str(key), ':', str(value[0][0]), '->',str(value[0][1]), 'instances')\n",
    "            \n",
    "def pretty_print_tree(tree:dict):\n",
    "    to_tree(tree, 2)\n"
   ]
  },
  {
   "cell_type": "code",
   "execution_count": 24,
   "metadata": {},
   "outputs": [],
   "source": [
    "def predict(instance:list, tree:dict)-> list[tuple]:\n",
    "    xlist = [x+1 for x in range(len(instance))]\n",
    "    instance_dict = dict(zip(xlist, instance))\n",
    "    \n",
    "    for key in list(instance_dict.keys()):\n",
    "        if key in list(tree.keys()):\n",
    "            try:\n",
    "                result = tree[key][instance_dict[key]]\n",
    "            except:\n",
    "                return None\n",
    "            result = tree[key][instance_dict[key]]\n",
    "            if isinstance(result, dict):\n",
    "                return predict(instance, result)\n",
    "            else:\n",
    "                return result"
   ]
  },
  {
   "cell_type": "code",
   "execution_count": 25,
   "metadata": {},
   "outputs": [
    {
     "name": "stdout",
     "output_type": "stream",
     "text": [
      "test [('e', 330)]\n"
     ]
    }
   ],
   "source": [
    "test = predict(data[0][1:], tree)\n",
    "print(\"test\", test)"
   ]
  },
  {
   "cell_type": "markdown",
   "metadata": {},
   "source": [
    "## Classify"
   ]
  },
  {
   "cell_type": "code",
   "execution_count": 26,
   "metadata": {},
   "outputs": [],
   "source": [
    "def classify(x, tree):\n",
    "    results = []\n",
    "    for instance in x:\n",
    "        result = predict(instance, tree)\n",
    "        if result != None:\n",
    "            results.append(result[0][0])\n",
    "        else:\n",
    "            results.append(result)\n",
    "    return results"
   ]
  },
  {
   "cell_type": "code",
   "execution_count": 27,
   "metadata": {},
   "outputs": [
    {
     "name": "stdout",
     "output_type": "stream",
     "text": [
      "[['e' 'x' 'f' 'n' 't' 'n' 'f' 'c' 'b' 'w' 't' 'b' 's' 's' 'g' 'g' 'p' 'w'\n",
      "  'o' 'p' 'n' 'v' 'd']\n",
      " ['p' 'x' 's' 'e' 'f' 's' 'f' 'c' 'n' 'b' 't' '?' 'k' 's' 'w' 'p' 'p' 'w'\n",
      "  'o' 'e' 'w' 'v' 'd']\n",
      " ['e' 'x' 's' 'w' 'f' 'n' 'f' 'w' 'b' 'g' 'e' '?' 's' 'k' 'w' 'w' 'p' 'w'\n",
      "  't' 'p' 'w' 's' 'g']\n",
      " ['p' 'x' 'f' 'g' 'f' 'f' 'f' 'c' 'b' 'p' 'e' 'b' 'k' 'k' 'b' 'n' 'p' 'w'\n",
      "  'o' 'l' 'h' 'y' 'd']]\n"
     ]
    },
    {
     "data": {
      "text/plain": [
       "[None, 'p', 'p', 'p']"
      ]
     },
     "execution_count": 27,
     "metadata": {},
     "output_type": "execute_result"
    }
   ],
   "source": [
    "i = 4\n",
    "instance = data[2:7][1:]\n",
    "print(instance)\n",
    "classify(instance, tree)"
   ]
  },
  {
   "cell_type": "markdown",
   "metadata": {},
   "source": [
    "## Model Evaluation"
   ]
  },
  {
   "cell_type": "code",
   "execution_count": 28,
   "metadata": {},
   "outputs": [],
   "source": [
    "def get_folds(dataset, fold, k):\n",
    "    folds = np.array_split(dataset,k)\n",
    "    test = folds[fold-1]\n",
    "    training = [folds[i] for i in range(k) if i != (fold-1)]\n",
    "    return np.concatenate(training), test"
   ]
  },
  {
   "cell_type": "code",
   "execution_count": 29,
   "metadata": {},
   "outputs": [],
   "source": [
    "def separate(dataset):\n",
    "    x = dataset[:,1:]\n",
    "    y = dataset[:, 0]\n",
    "    return x, y"
   ]
  },
  {
   "cell_type": "code",
   "execution_count": 30,
   "metadata": {},
   "outputs": [],
   "source": [
    "def cross_validation(dataset, default_label, k = 10):\n",
    "    output = []\n",
    "    attributes = list(range(1,23))\n",
    "    np.random.shuffle(dataset)\n",
    "    \n",
    "    folds = np.array_split(data, k)\n",
    " \n",
    "    for i in range(k):\n",
    "        print(f\"fold:{i+1}\")\n",
    "        test_set = folds[i][:,:]\n",
    "        new_folds=np.row_stack(np.delete(folds,i,0))\n",
    "        training_set = new_folds[:,:]\n",
    "        print(\"training set\", np.shape(training_set))\n",
    "        print(\"testing set\", np.shape(test_set))\n",
    "        tree = ID3(training_set, attributes, default_label)\n",
    "        x,y = separate(test_set)\n",
    "        y_pred = classify(x, tree)\n",
    "        evaluate_fold(y, y_pred)\n",
    "        output.append((y, y_pred))\n",
    "    return output"
   ]
  },
  {
   "cell_type": "code",
   "execution_count": 31,
   "metadata": {},
   "outputs": [],
   "source": [
    "def confusion_matrix(y, y_pred, pos, neg):\n",
    "    total = len(y)\n",
    "    tp = sum(x == pos and y == pos for x, y in zip(y, y_pred))\n",
    "    tn = sum(x == neg and y == neg for x, y in zip(y, y_pred))\n",
    "    fp = sum(x == pos and y == neg for x, y in zip(y, y_pred))\n",
    "    fn = sum(x == neg and y == pos for x, y in zip(y, y_pred))\n",
    "    return tp, tn, fp, fn"
   ]
  },
  {
   "cell_type": "code",
   "execution_count": 32,
   "metadata": {},
   "outputs": [
    {
     "name": "stdout",
     "output_type": "stream",
     "text": [
      "(1, 2, 1, 0)\n"
     ]
    }
   ],
   "source": [
    "y = ['p', 'p', None, 'e', 'e']\n",
    "y_pred = ['p', 'e', None, 'e', 'e']\n",
    "print(confusion_matrix(y,y_pred, 'p', 'e'))"
   ]
  },
  {
   "cell_type": "code",
   "execution_count": 33,
   "metadata": {},
   "outputs": [],
   "source": [
    "def evaluate_fold(y, y_pred):\n",
    "    cm = np.array([confusion_matrix(y, y_pred, 'p', 'e')])\n",
    "    tp, tn, fp, fn = cm.sum(axis = 0)\n",
    "    total = len(y)\n",
    "    print_stats(total, tp, tn, fp, fn)\n",
    "    print('\\n')"
   ]
  },
  {
   "cell_type": "code",
   "execution_count": 34,
   "metadata": {},
   "outputs": [],
   "source": [
    "def print_confusion_matrix(tp, tn, fp, fn, pos, neg):\n",
    "    html = '''\n",
    "    <table>\n",
    "    <tr><td> </td><td>{0}</td><td>{1}</td></tr>\n",
    "    <tr><td>{2}</td><td>{3}</td><td>{4}</td></tr>\n",
    "    <tr><td>{5}</td><td>{6}</td><td>{7}</td></tr>\n",
    "    '''.format(pos, neg, pos, tp, fp, neg, fn, tn)\n",
    "    return HTML(html)"
   ]
  },
  {
   "cell_type": "code",
   "execution_count": 35,
   "metadata": {},
   "outputs": [],
   "source": [
    "def print_stats(total, tp, tn, fp, fn):\n",
    "    accuracy = (tp + tn)/float(total)\n",
    "    error = (fn + fp)/float(total)\n",
    "    precision = float(tp)/(tp + fp)\n",
    "    recall = float(tp)/(tp + fn)\n",
    "    classified = tp + tn + fp + fn\n",
    "    print (\"positive: e (edible)\")\n",
    "    print(\"negative: p (poisonous)\")\n",
    "    print (\"accuracy (TP + TN)/Total: {0:.3%}\".format(accuracy))\n",
    "    print (\"error (FP + FN)/Total: {0:.3%}\".format(error))\n",
    "    print (\"precision TP/(TP + FP): {0:.3%}\".format(precision))\n",
    "    print (\"recall TP/(TP + FN): {0:.3%}\".format(recall))"
   ]
  },
  {
   "cell_type": "code",
   "execution_count": 36,
   "metadata": {},
   "outputs": [],
   "source": [
    "def evaluate(output):\n",
    "    for y, y_pred in output:\n",
    "        cm = np.array([confusion_matrix(y, y_pred, 'p', 'e')])\n",
    "        tp, tn, fp, fn = cm.sum(axis = 0)\n",
    "        total = len(y)\n",
    "        print_stats(total, tp, tn, fp, fn)\n",
    "        print_confusion_matrix(tp,tn,fp, fn, 'p', 'e')\n",
    "        print('\\n')\n",
    "    "
   ]
  },
  {
   "cell_type": "markdown",
   "metadata": {},
   "source": [
    "# RUNNING ON MUSHROOM DATA\n",
    "## Cross Validation w default_label set to \"p\""
   ]
  },
  {
   "cell_type": "code",
   "execution_count": 37,
   "metadata": {},
   "outputs": [
    {
     "name": "stdout",
     "output_type": "stream",
     "text": [
      "fold:1\n",
      "training set (7311, 23)\n",
      "testing set (813, 23)\n"
     ]
    },
    {
     "name": "stderr",
     "output_type": "stream",
     "text": [
      "C:\\Users\\wsven\\anaconda3\\envs\\en605645\\lib\\site-packages\\numpy\\lib\\function_base.py:5030: VisibleDeprecationWarning: Creating an ndarray from ragged nested sequences (which is a list-or-tuple of lists-or-tuples-or ndarrays with different lengths or shapes) is deprecated. If you meant to do this, you must specify 'dtype=object' when creating the ndarray.\n",
      "  arr = asarray(arr)\n"
     ]
    },
    {
     "name": "stdout",
     "output_type": "stream",
     "text": [
      "positive: e (edible)\n",
      "negative: p (poisonous)\n",
      "accuracy (TP + TN)/Total: 99.631%\n",
      "error (FP + FN)/Total: 0.000%\n",
      "precision TP/(TP + FP): 100.000%\n",
      "recall TP/(TP + FN): 100.000%\n",
      "\n",
      "\n",
      "fold:2\n",
      "training set (7311, 23)\n",
      "testing set (813, 23)\n",
      "positive: e (edible)\n",
      "negative: p (poisonous)\n",
      "accuracy (TP + TN)/Total: 99.508%\n",
      "error (FP + FN)/Total: 0.246%\n",
      "precision TP/(TP + FP): 99.476%\n",
      "recall TP/(TP + FN): 100.000%\n",
      "\n",
      "\n",
      "fold:3\n",
      "training set (7311, 23)\n",
      "testing set (813, 23)\n",
      "positive: e (edible)\n",
      "negative: p (poisonous)\n",
      "accuracy (TP + TN)/Total: 98.893%\n",
      "error (FP + FN)/Total: 0.123%\n",
      "precision TP/(TP + FP): 99.730%\n",
      "recall TP/(TP + FN): 100.000%\n",
      "\n",
      "\n",
      "fold:4\n",
      "training set (7311, 23)\n",
      "testing set (813, 23)\n",
      "positive: e (edible)\n",
      "negative: p (poisonous)\n",
      "accuracy (TP + TN)/Total: 100.000%\n",
      "error (FP + FN)/Total: 0.000%\n",
      "precision TP/(TP + FP): 100.000%\n",
      "recall TP/(TP + FN): 100.000%\n",
      "\n",
      "\n",
      "fold:5\n",
      "training set (7312, 23)\n",
      "testing set (812, 23)\n",
      "positive: e (edible)\n",
      "negative: p (poisonous)\n",
      "accuracy (TP + TN)/Total: 99.631%\n",
      "error (FP + FN)/Total: 0.000%\n",
      "precision TP/(TP + FP): 100.000%\n",
      "recall TP/(TP + FN): 100.000%\n",
      "\n",
      "\n",
      "fold:6\n",
      "training set (7312, 23)\n",
      "testing set (812, 23)\n",
      "positive: e (edible)\n",
      "negative: p (poisonous)\n",
      "accuracy (TP + TN)/Total: 99.631%\n",
      "error (FP + FN)/Total: 0.000%\n",
      "precision TP/(TP + FP): 100.000%\n",
      "recall TP/(TP + FN): 100.000%\n",
      "\n",
      "\n",
      "fold:7\n",
      "training set (7312, 23)\n",
      "testing set (812, 23)\n",
      "positive: e (edible)\n",
      "negative: p (poisonous)\n",
      "accuracy (TP + TN)/Total: 99.877%\n",
      "error (FP + FN)/Total: 0.000%\n",
      "precision TP/(TP + FP): 100.000%\n",
      "recall TP/(TP + FN): 100.000%\n",
      "\n",
      "\n",
      "fold:8\n",
      "training set (7312, 23)\n",
      "testing set (812, 23)\n",
      "positive: e (edible)\n",
      "negative: p (poisonous)\n",
      "accuracy (TP + TN)/Total: 99.261%\n",
      "error (FP + FN)/Total: 0.369%\n",
      "precision TP/(TP + FP): 100.000%\n",
      "recall TP/(TP + FN): 99.317%\n",
      "\n",
      "\n",
      "fold:9\n",
      "training set (7312, 23)\n",
      "testing set (812, 23)\n",
      "positive: e (edible)\n",
      "negative: p (poisonous)\n",
      "accuracy (TP + TN)/Total: 99.631%\n",
      "error (FP + FN)/Total: 0.000%\n",
      "precision TP/(TP + FP): 100.000%\n",
      "recall TP/(TP + FN): 100.000%\n",
      "\n",
      "\n",
      "fold:10\n",
      "training set (7312, 23)\n",
      "testing set (812, 23)\n",
      "positive: e (edible)\n",
      "negative: p (poisonous)\n",
      "accuracy (TP + TN)/Total: 99.015%\n",
      "error (FP + FN)/Total: 0.246%\n",
      "precision TP/(TP + FP): 100.000%\n",
      "recall TP/(TP + FN): 99.482%\n",
      "\n",
      "\n"
     ]
    }
   ],
   "source": [
    "dataset = load(\"agaricus-lepiota.data\")\n",
    "np.random.shuffle(dataset)\n",
    "output = cross_validation(dataset, 'p')"
   ]
  },
  {
   "cell_type": "markdown",
   "metadata": {},
   "source": [
    "## Total output"
   ]
  },
  {
   "cell_type": "code",
   "execution_count": 38,
   "metadata": {},
   "outputs": [
    {
     "name": "stdout",
     "output_type": "stream",
     "text": [
      "positive: e (edible)\n",
      "negative: p (poisonous)\n",
      "accuracy (TP + TN)/Total: 99.508%\n",
      "error (FP + FN)/Total: 0.098%\n",
      "precision TP/(TP + FP): 99.923%\n",
      "recall TP/(TP + FN): 99.872%\n"
     ]
    },
    {
     "data": {
      "text/html": [
       "\n",
       "    <table>\n",
       "    <tr><td> </td><td>p</td><td>e</td></tr>\n",
       "    <tr><td>p</td><td>3903</td><td>3</td></tr>\n",
       "    <tr><td>e</td><td>5</td><td>4181</td></tr>\n",
       "    "
      ],
      "text/plain": [
       "<IPython.core.display.HTML object>"
      ]
     },
     "execution_count": 38,
     "metadata": {},
     "output_type": "execute_result"
    }
   ],
   "source": [
    "cm = np.array([confusion_matrix(y, y_pred, 'p', 'e') for y, y_pred in output])\n",
    "tp, tn, fp, fn = cm.sum(axis=0)\n",
    "total = 0\n",
    "for _, y_pred in output:\n",
    "    total += len(y_pred)\n",
    "print_stats(total, tp, tn, fp, fn)\n",
    "print_confusion_matrix(tp, tn, fp, fn, 'p', 'e')"
   ]
  },
  {
   "cell_type": "markdown",
   "metadata": {},
   "source": [
    "## Running on all of data"
   ]
  },
  {
   "cell_type": "code",
   "execution_count": 39,
   "metadata": {},
   "outputs": [
    {
     "name": "stdout",
     "output_type": "stream",
     "text": [
      "     5 :\n",
      "         m : p -> 36 instances\n",
      "         c : p -> 192 instances\n",
      "         p : p -> 256 instances\n",
      "         a : e -> 400 instances\n",
      "         l : e -> 400 instances\n",
      "         s : p -> 576 instances\n",
      "         y : p -> 576 instances\n",
      "         f : p -> 2160 instances\n",
      "         n :\n",
      "             1 :\n",
      "                 c : p -> 4 instances\n",
      "                 s : e -> 32 instances\n",
      "                 b :\n",
      "                     2 :\n",
      "                         g : p -> 1 instances\n",
      "                         y :\n",
      "                             3 :\n",
      "                                 n :\n",
      "                                     4 :\n",
      "                                         f :\n",
      "                                             6 :\n",
      "                                                 f :\n",
      "                                                     7 :\n",
      "                                                         c :\n",
      "                                                             8 :\n",
      "                                                                 b : e -> 2 instances\n",
      "                                                                 n : p -> 2 instances\n",
      "                                 y : p -> 4 instances\n",
      "                                 b : p -> 6 instances\n",
      "                                 p : p -> 6 instances\n",
      "                                 w : p -> 7 instances\n",
      "                         s :\n",
      "                             3 :\n",
      "                                 b : p -> 6 instances\n",
      "                                 p : p -> 6 instances\n",
      "                                 g : e -> 24 instances\n",
      "                                 w :\n",
      "                                     4 :\n",
      "                                         f : e -> 24 instances\n",
      "                                         t : p -> 6 instances\n",
      "                                 n : e -> 50 instances\n",
      "                         f :\n",
      "                             3 :\n",
      "                                 n : p -> 2 instances\n",
      "                                 y : p -> 2 instances\n",
      "                                 g : e -> 24 instances\n",
      "                                 w : e -> 24 instances\n",
      "                 k :\n",
      "                     2 :\n",
      "                         g : p -> 1 instances\n",
      "                         y :\n",
      "                             3 :\n",
      "                                 w : p -> 1 instances\n",
      "                                 c : e -> 4 instances\n",
      "                                 y : p -> 4 instances\n",
      "                                 b : e -> 8 instances\n",
      "                                 e : e -> 8 instances\n",
      "                                 p : e -> 8 instances\n",
      "                                 n :\n",
      "                                     4 :\n",
      "                                         f :\n",
      "                                             6 :\n",
      "                                                 f :\n",
      "                                                     7 :\n",
      "                                                         c :\n",
      "                                                             8 :\n",
      "                                                                 b : e -> 2 instances\n",
      "                                                                 n : p -> 2 instances\n",
      "                                                         w : e -> 4 instances\n",
      "                                         t : e -> 8 instances\n",
      "                         s : e -> 130 instances\n",
      "                         f :\n",
      "                             3 :\n",
      "                                 y : p -> 2 instances\n",
      "                                 c : e -> 4 instances\n",
      "                                 n :\n",
      "                                     4 :\n",
      "                                         f :\n",
      "                                             6 :\n",
      "                                                 f :\n",
      "                                                     7 :\n",
      "                                                         w : e -> 4 instances\n",
      "                                                         c : p -> 2 instances\n",
      "                                 g : e -> 24 instances\n",
      "                                 w : e -> 24 instances\n",
      "                 x :\n",
      "                     2 :\n",
      "                         s : e -> 330 instances\n",
      "                         f :\n",
      "                             3 :\n",
      "                                 y : p -> 2 instances\n",
      "                                 c : e -> 4 instances\n",
      "                                 w : e -> 88 instances\n",
      "                                 e : e -> 144 instances\n",
      "                                 n :\n",
      "                                     4 :\n",
      "                                         t : e -> 144 instances\n",
      "                                         f :\n",
      "                                             6 :\n",
      "                                                 f :\n",
      "                                                     7 :\n",
      "                                                         w : e -> 68 instances\n",
      "                                                         c :\n",
      "                                                             8 :\n",
      "                                                                 n :\n",
      "                                                                     9 :\n",
      "                                                                         w : p -> 2 instances\n",
      "                                                                         g : e -> 4 instances\n",
      "                                                                         k : e -> 4 instances\n",
      "                                                                         n : e -> 4 instances\n",
      "                                                                         p : e -> 4 instances\n",
      "                                 g : e -> 248 instances\n",
      "                         y :\n",
      "                             3 :\n",
      "                                 y : p -> 2 instances\n",
      "                                 c : e -> 6 instances\n",
      "                                 b : e -> 8 instances\n",
      "                                 r : e -> 8 instances\n",
      "                                 u : e -> 8 instances\n",
      "                                 w : e -> 8 instances\n",
      "                                 p : e -> 10 instances\n",
      "                                 g : e -> 146 instances\n",
      "                                 e : e -> 152 instances\n",
      "                                 n :\n",
      "                                     4 :\n",
      "                                         t : e -> 154 instances\n",
      "                                         f :\n",
      "                                             6 :\n",
      "                                                 f :\n",
      "                                                     7 :\n",
      "                                                         c :\n",
      "                                                             8 :\n",
      "                                                                 b : e -> 2 instances\n",
      "                                                                 n : p -> 2 instances\n",
      "                                                         w : e -> 4 instances\n",
      "                 f :\n",
      "                     2 :\n",
      "                         g : p -> 1 instances\n",
      "                         s :\n",
      "                             3 :\n",
      "                                 c : e -> 2 instances\n",
      "                                 e : e -> 8 instances\n",
      "                                 b :\n",
      "                                     4 :\n",
      "                                         t :\n",
      "                                             6 :\n",
      "                                                 f :\n",
      "                                                     7 :\n",
      "                                                         c :\n",
      "                                                             8 :\n",
      "                                                                 b :\n",
      "                                                                     9 :\n",
      "                                                                         g : p -> 2 instances\n",
      "                                                                         r : p -> 2 instances\n",
      "                                                                         e : e -> 4 instances\n",
      "                                                                         w :\n",
      "                                                                             10 :\n",
      "                                                                                 e :\n",
      "                                                                                     11 :\n",
      "                                                                                         b : p -> 2 instances\n",
      "                                 p :\n",
      "                                     4 :\n",
      "                                         t :\n",
      "                                             6 :\n",
      "                                                 f :\n",
      "                                                     7 :\n",
      "                                                         c :\n",
      "                                                             8 :\n",
      "                                                                 b :\n",
      "                                                                     9 :\n",
      "                                                                         g : p -> 2 instances\n",
      "                                                                         r : p -> 2 instances\n",
      "                                                                         e : e -> 4 instances\n",
      "                                                                         w :\n",
      "                                                                             10 :\n",
      "                                                                                 e :\n",
      "                                                                                     11 :\n",
      "                                                                                         b :\n",
      "                                                                                             12 :\n",
      "                                                                                                 s :\n",
      "                                                                                                     13 :\n",
      "                                                                                                         s :\n",
      "                                                                                                             14 :\n",
      "                                                                                                                 w :\n",
      "                                                                                                                     15 :\n",
      "                                                                                                                         w :\n",
      "                                                                                                                             16 :\n",
      "                                                                                                                                 p :\n",
      "                                                                                                                                     17 :\n",
      "                                                                                                                                         w :\n",
      "                                                                                                                                             18 :\n",
      "                                                                                                                                                 t :\n",
      "                                                                                                                                                     19 :\n",
      "                                                                                                                                                         p :\n",
      "                                                                                                                                                             20 :\n",
      "                                                                                                                                                                 r : p -> 2 instances\n",
      "                                                                                                                                                                 w : e -> 2 instances\n",
      "                                 g : e -> 66 instances\n",
      "                                 w :\n",
      "                                     4 :\n",
      "                                         f : e -> 64 instances\n",
      "                                         t : p -> 6 instances\n",
      "                                 n : e -> 124 instances\n",
      "                         f :\n",
      "                             3 :\n",
      "                                 y : p -> 2 instances\n",
      "                                 c : e -> 4 instances\n",
      "                                 w : e -> 64 instances\n",
      "                                 e : e -> 144 instances\n",
      "                                 g : e -> 224 instances\n",
      "                                 n :\n",
      "                                     4 :\n",
      "                                         t : e -> 144 instances\n",
      "                                         f :\n",
      "                                             6 :\n",
      "                                                 f :\n",
      "                                                     7 :\n",
      "                                                         w : e -> 68 instances\n",
      "                                                         c :\n",
      "                                                             8 :\n",
      "                                                                 n :\n",
      "                                                                     9 :\n",
      "                                                                         w : p -> 2 instances\n",
      "                                                                         g : e -> 4 instances\n",
      "                                                                         k : e -> 4 instances\n",
      "                                                                         n : e -> 4 instances\n",
      "                                                                         p : e -> 4 instances\n",
      "                         y :\n",
      "                             3 :\n",
      "                                 y : p -> 4 instances\n",
      "                                 c : e -> 6 instances\n",
      "                                 r : e -> 8 instances\n",
      "                                 u : e -> 8 instances\n",
      "                                 b :\n",
      "                                     4 :\n",
      "                                         t :\n",
      "                                             6 :\n",
      "                                                 f :\n",
      "                                                     7 :\n",
      "                                                         c :\n",
      "                                                             8 :\n",
      "                                                                 b :\n",
      "                                                                     9 :\n",
      "                                                                         g : p -> 2 instances\n",
      "                                                                         r : p -> 2 instances\n",
      "                                                                         e : e -> 4 instances\n",
      "                                                                         w :\n",
      "                                                                             10 :\n",
      "                                                                                 e :\n",
      "                                                                                     11 :\n",
      "                                                                                         b : p -> 2 instances\n",
      "                                 w :\n",
      "                                     4 :\n",
      "                                         f : e -> 8 instances\n",
      "                                         t : p -> 7 instances\n",
      "                                 p :\n",
      "                                     4 :\n",
      "                                         t :\n",
      "                                             6 :\n",
      "                                                 f :\n",
      "                                                     7 :\n",
      "                                                         c :\n",
      "                                                             8 :\n",
      "                                                                 b :\n",
      "                                                                     9 :\n",
      "                                                                         g : p -> 2 instances\n",
      "                                                                         r : p -> 2 instances\n",
      "                                                                         e : e -> 4 instances\n",
      "                                                                         w :\n",
      "                                                                             10 :\n",
      "                                                                                 e :\n",
      "                                                                                     11 :\n",
      "                                                                                         b :\n",
      "                                                                                             12 :\n",
      "                                                                                                 s :\n",
      "                                                                                                     13 :\n",
      "                                                                                                         s :\n",
      "                                                                                                             14 :\n",
      "                                                                                                                 w :\n",
      "                                                                                                                     15 :\n",
      "                                                                                                                         w :\n",
      "                                                                                                                             16 :\n",
      "                                                                                                                                 p :\n",
      "                                                                                                                                     17 :\n",
      "                                                                                                                                         w :\n",
      "                                                                                                                                             18 :\n",
      "                                                                                                                                                 t :\n",
      "                                                                                                                                                     19 :\n",
      "                                                                                                                                                         p :\n",
      "                                                                                                                                                             20 :\n",
      "                                                                                                                                                                 r : p -> 2 instances\n",
      "                                                                                                                                                                 w : e -> 2 instances\n",
      "                                 g : e -> 146 instances\n",
      "                                 e : e -> 152 instances\n",
      "                                 n :\n",
      "                                     4 :\n",
      "                                         t : e -> 154 instances\n",
      "                                         f :\n",
      "                                             6 :\n",
      "                                                 f :\n",
      "                                                     7 :\n",
      "                                                         c :\n",
      "                                                             8 :\n",
      "                                                                 b : e -> 2 instances\n",
      "                                                                 n : p -> 2 instances\n",
      "                                                         w : e -> 4 instances\n"
     ]
    }
   ],
   "source": [
    "tree = ID3(data, list(range(1, 23)), 'p')\n",
    "pretty_print_tree(tree)"
   ]
  },
  {
   "cell_type": "markdown",
   "metadata": {},
   "source": [
    "## Before You Submit...\n",
    "\n",
    "1. Did you provide output exactly as requested?\n",
    "2. Did you re-execute the entire notebook? (\"Restart Kernel and Rull All Cells...\")\n",
    "3. If you did not complete the assignment or had difficulty please explain what gave you the most difficulty in the Markdown cell below.\n",
    "4. Did you change the name of the file to `jhed_id.ipynb`?\n",
    "\n",
    "Do not submit any other files."
   ]
  },
  {
   "cell_type": "markdown",
   "metadata": {},
   "source": []
  },
  {
   "cell_type": "markdown",
   "metadata": {},
   "source": [
    "For this assignment I found it really difficult to not use OOPS considering I worked on the ID3 and CART algorithm last semester in intro to ML. Essentially I just lost more time that I would have liked in constructing the logic within the ID3 algorithm so that the dictionary was getting filled as wanted. Initally my ID3 algorithm would just keep iterating until it maxed out on the kernel's limit, so at first I thought it was the system then tried to put it into pycharm and see if it was something there but at last I got it to work. I was not able to implement the max_depth function as that just completely slipped my head will trying to get the tree to populate. "
   ]
  }
 ],
 "metadata": {
  "kernelspec": {
   "display_name": "Python (en605645)",
   "language": "python",
   "name": "en605645"
  },
  "language_info": {
   "codemirror_mode": {
    "name": "ipython",
    "version": 3
   },
   "file_extension": ".py",
   "mimetype": "text/x-python",
   "name": "python",
   "nbconvert_exporter": "python",
   "pygments_lexer": "ipython3",
   "version": "3.10.4"
  },
  "toc": {
   "colors": {
    "hover_highlight": "#DAA520",
    "navigate_num": "#000000",
    "navigate_text": "#333333",
    "running_highlight": "#FF0000",
    "selected_highlight": "#FFD700",
    "sidebar_border": "#EEEEEE",
    "wrapper_background": "#FFFFFF"
   },
   "moveMenuLeft": true,
   "nav_menu": {
    "height": "81px",
    "width": "252px"
   },
   "navigate_menu": true,
   "number_sections": true,
   "sideBar": true,
   "threshold": 4,
   "toc_cell": false,
   "toc_section_display": "block",
   "toc_window_display": false,
   "widenNotebook": false
  }
 },
 "nbformat": 4,
 "nbformat_minor": 4
}
